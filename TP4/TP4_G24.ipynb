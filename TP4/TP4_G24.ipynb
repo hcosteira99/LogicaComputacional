{
  "cells": [
    {
      "cell_type": "markdown",
      "metadata": {
        "id": "DWwgCVaBNo7K"
      },
      "source": [
        "# Trabalho 4\n",
        "\n",
        "## Grupo 24\n",
        "\n",
        "### Pedro Faria - A72640\n",
        "### Hugo Costeira - A87976"
      ]
    },
    {
      "cell_type": "markdown",
      "metadata": {
        "id": "JpUyjkD9TiAZ"
      },
      "source": [
        "# 1"
      ]
    },
    {
      "cell_type": "markdown",
      "metadata": {
        "id": "FhlFvzrCxYSe"
      },
      "source": [
        "Para efetuar esta prova podemos construir um FOTS que modela o programa,\n",
        "\n",
        "\n",
        "       assume m >= 0 and n >= 0 and r == 0 and x == m and y == n \n",
        "    0: while y > 0:\n",
        "    1:    if y & 1 == 1: \n",
        "                y , r  = y-1 , r+x\n",
        "    2:    x , y = x<<1  ,  y>>1\n",
        "    3: assert r == m * n"
      ]
    },
    {
      "cell_type": "code",
      "execution_count": null,
      "metadata": {
        "colab": {
          "base_uri": "https://localhost:8080/"
        },
        "id": "6UCmGP7h1fFS",
        "outputId": "4a65b313-a7ed-437e-c3a7-6b5f79aad1bf"
      },
      "outputs": [],
      "source": [
        "!pip install z3-solver"
      ]
    },
    {
      "cell_type": "code",
      "execution_count": 3,
      "metadata": {
        "id": "s-ZlFVKlaOsE"
      },
      "outputs": [],
      "source": [
        "from z3 import*\n",
        "\n",
        "def declare(i):\n",
        "  estado = {}\n",
        "\n",
        "  estado['x'] = BitVec('x' + str(i),16)\n",
        "  estado['y'] = BitVec('y' + str(i),16)\n",
        "  estado['r'] = BitVec('r' + str(i),16)\n",
        "  estado['m'] = BitVec('m' + str(i),16)\n",
        "  estado['n'] = BitVec('n' + str(i),16)\n",
        "  estado['ap'] = Int('ap'+str(i)) # Esta variável será útil para indicar a instrução atual\n",
        "\n",
        "  return estado\n"
      ]
    },
    {
      "cell_type": "markdown",
      "metadata": {
        "id": "a98SXiYo1b5J"
      },
      "source": [
        "O estado inicial do First Order Transtition System (FOTS) é determinado pelo predicado init. \n",
        "\n",
        "Olhando para a pré-condição deste programa, o predicado init corresponde a:\n",
        "\n",
        "$$ap == 0 \\wedge  m \\geq 0 \\wedge n \\geq 0 \\wedge r == 0 \\wedge x == m \\wedge y == n$$"
      ]
    },
    {
      "cell_type": "code",
      "execution_count": 4,
      "metadata": {
        "id": "21E2FW_T2l_O"
      },
      "outputs": [],
      "source": [
        "def init(estado):\n",
        "  l = []\n",
        "\n",
        "  l.append(estado['m'] >= 0)\n",
        "  l.append(estado['n'] >= 0)\n",
        "  l.append(estado['r'] == 0)\n",
        "  l.append(estado['x'] == estado['m'])\n",
        "  l.append(estado['y'] == estado['n'])\n",
        "  l.append(estado['ap'] == 0)\n",
        "\n",
        "  return And(l)"
      ]
    },
    {
      "cell_type": "markdown",
      "metadata": {
        "id": "kyUj7SvdDmi0"
      },
      "source": [
        "Em seguida, determinaremos a função de transição. Quando a variável $ap == 0$, estaremos na verificação da condição do ciclo e transitaremos para dentro do ciclo ou para o final do programa (no caso em que a condição $y>0$ é falsa). \n",
        "\n",
        " Estas duas possibilidades traduzem-se em:\n",
        "\n",
        "\n",
        "\n",
        "  $$ap == 0 \\land y > 0 \\land y' == y \\land m' == m \\land r' == r \\land x' == x \\land n' == n \\land ap' == 1$$\n",
        "\n",
        "   $$ap == 0 \\land y \\leq 0 \\land y' == y \\land m' == m \\land r' == r \\land x' == x \\land n' == n \\land ap' == 3$$\n",
        "\n"
      ]
    },
    {
      "cell_type": "markdown",
      "metadata": {},
      "source": [
        "Resumidamente, sabemos que quando $ap == 1$ entramos no ciclo.\n",
        "\n",
        " A próxima instrução é novamente uma condição que terá duas situações: a condição é verdadeira e são alterados os valores das variáveis $y\\,,\\,r$ ou  a condição é falsa e as variáveis $y\\,,\\,r$ não são alteradas. \n",
        " \n",
        " Estas duas possibilidades traduzem-se em:\n",
        "\n",
        "\n",
        " $$ap == 1 \\land y\\,\\&\\, 1 == 1 \\land y' == y-1 \\land m' == m \\land r' == r+x \\land x' == x \\land n' == n \\land ap' == 2$$\n",
        " $$ap == 1 \\land \\neg(y\\&1 == 1) \\land y' == y \\land m' == m \\land r' == r \\land x' == x \\land n' == n \\land ap' == 2$$\n",
        "\n"
      ]
    },
    {
      "cell_type": "markdown",
      "metadata": {
        "id": "kC_6k0EAJFdZ"
      },
      "source": [
        "No caso em que $ap==2$ é necessário executar as últimas instruções do ciclo e reiniciar o ap a 0, de modo a que a condição de ciclo seja novamente testada:\n",
        "\n",
        "$$ap == 2 \\land x' == x << 1 \\land m' == m \\land r' == r \\land y' == y >> 1 \\land n' == n \\land ap' == 0$$"
      ]
    },
    {
      "cell_type": "markdown",
      "metadata": {
        "id": "OJjKmlerKAam"
      },
      "source": [
        "Resta, portanto, adicionar a transição do estado final para ele próprio:\n",
        "$$ap == 3 \\land y' == y \\land m' == m \\land r' == r \\land x' == x \\land n' == n \\land ap' == 3$$"
      ]
    },
    {
      "cell_type": "code",
      "execution_count": 10,
      "metadata": {
        "id": "upiL6utGKUa0"
      },
      "outputs": [],
      "source": [
        "def trans(curr,prox):\n",
        "  l = []\n",
        "\n",
        "  l.append(And(curr['ap'] == 0, curr['y'] > 0, prox['y'] == curr['y'], \n",
        "               prox['m'] == curr['m'], prox['r'] == curr['r'], \n",
        "               prox['x'] == curr['x'], prox['n'] == curr['n'], prox['ap'] == 1))\n",
        "  \n",
        "  l.append(And(curr['ap'] == 0, curr['y'] <= 0, prox['y'] == curr['y'], \n",
        "               prox['m'] == curr['m'], prox['r'] == curr['r'], \n",
        "               prox['x'] == curr['x'], prox['n'] == curr['n'], prox['ap'] == 3))\n",
        "  \n",
        "  l. append(And(curr['ap'] == 1, curr['y'] & 1 == 1, prox['y'] == curr['y'], \n",
        "                prox['r'] == curr['r'] + curr['x'], prox['x'] == curr['x'], \n",
        "                prox['m'] == curr['m'], prox['n'] == curr['n'], prox['ap'] == 2))\n",
        "  \n",
        "  l. append(And(curr['ap'] == 1, Not(curr['y'] & 1 == 1), prox['y'] == curr['y'], \n",
        "                prox['r'] == curr['r'], prox['x'] == curr['x'], \n",
        "                prox['m'] == curr['m'], prox['n'] == curr['n'], prox['ap'] == 2))\n",
        "  \n",
        "  l. append(And(curr['ap'] == 2, prox['x'] == curr['x'] << 1, \n",
        "                prox['y'] == curr['y'] >> 1, prox['m'] == curr['m'], \n",
        "                prox['n'] == curr['n'], prox['r'] == curr['r'], prox['ap'] == 0))\n",
        "  \n",
        "  l.append(And(curr['ap'] == 3, prox['y'] == curr['y'], \n",
        "               prox['m'] == curr['m'], prox['r'] == curr['r'], \n",
        "               prox['x'] == curr['x'], prox['n'] == curr['n'], prox['ap'] == 3))\n",
        "  \n",
        "  return Or(l)"
      ]
    },
    {
      "cell_type": "markdown",
      "metadata": {
        "id": "8hOvL2j-O_62"
      },
      "source": [
        "Seguidamente, apresenta-se uma função que gera um traço da execução do FOTS construído:"
      ]
    },
    {
      "cell_type": "code",
      "execution_count": 14,
      "metadata": {
        "colab": {
          "base_uri": "https://localhost:8080/"
        },
        "id": "O5RPUiKRPGrM",
        "outputId": "c63b4b15-80a6-4a0d-d714-763c32c9fb65"
      },
      "outputs": [
        {
          "name": "stdout",
          "output_type": "stream",
          "text": [
            "estado: 0\n",
            "x = 16\n",
            "y = 57\n",
            "r = 0\n",
            "m = 16\n",
            "n = 57\n",
            "ap = 0\n",
            "estado: 1\n",
            "x = 16\n",
            "y = 57\n",
            "r = 0\n",
            "m = 16\n",
            "n = 57\n",
            "ap = 1\n",
            "estado: 2\n",
            "x = 16\n",
            "y = 57\n",
            "r = 16\n",
            "m = 16\n",
            "n = 57\n",
            "ap = 2\n",
            "estado: 3\n",
            "x = 32\n",
            "y = 28\n",
            "r = 16\n",
            "m = 16\n",
            "n = 57\n",
            "ap = 0\n",
            "estado: 4\n",
            "x = 32\n",
            "y = 28\n",
            "r = 16\n",
            "m = 16\n",
            "n = 57\n",
            "ap = 1\n",
            "estado: 5\n",
            "x = 32\n",
            "y = 28\n",
            "r = 16\n",
            "m = 16\n",
            "n = 57\n",
            "ap = 2\n",
            "estado: 6\n",
            "x = 64\n",
            "y = 14\n",
            "r = 16\n",
            "m = 16\n",
            "n = 57\n",
            "ap = 0\n",
            "estado: 7\n",
            "x = 64\n",
            "y = 14\n",
            "r = 16\n",
            "m = 16\n",
            "n = 57\n",
            "ap = 1\n",
            "estado: 8\n",
            "x = 64\n",
            "y = 14\n",
            "r = 16\n",
            "m = 16\n",
            "n = 57\n",
            "ap = 2\n",
            "estado: 9\n",
            "x = 128\n",
            "y = 7\n",
            "r = 16\n",
            "m = 16\n",
            "n = 57\n",
            "ap = 0\n",
            "estado: 10\n",
            "x = 128\n",
            "y = 7\n",
            "r = 16\n",
            "m = 16\n",
            "n = 57\n",
            "ap = 1\n",
            "estado: 11\n",
            "x = 128\n",
            "y = 7\n",
            "r = 144\n",
            "m = 16\n",
            "n = 57\n",
            "ap = 2\n",
            "estado: 12\n",
            "x = 256\n",
            "y = 3\n",
            "r = 144\n",
            "m = 16\n",
            "n = 57\n",
            "ap = 0\n",
            "estado: 13\n",
            "x = 256\n",
            "y = 3\n",
            "r = 144\n",
            "m = 16\n",
            "n = 57\n",
            "ap = 1\n",
            "estado: 14\n",
            "x = 256\n",
            "y = 3\n",
            "r = 400\n",
            "m = 16\n",
            "n = 57\n",
            "ap = 2\n",
            "estado: 15\n",
            "x = 512\n",
            "y = 1\n",
            "r = 400\n",
            "m = 16\n",
            "n = 57\n",
            "ap = 0\n",
            "estado: 16\n",
            "x = 512\n",
            "y = 1\n",
            "r = 400\n",
            "m = 16\n",
            "n = 57\n",
            "ap = 1\n",
            "estado: 17\n",
            "x = 512\n",
            "y = 1\n",
            "r = 912\n",
            "m = 16\n",
            "n = 57\n",
            "ap = 2\n",
            "estado: 18\n",
            "x = 1024\n",
            "y = 0\n",
            "r = 912\n",
            "m = 16\n",
            "n = 57\n",
            "ap = 0\n",
            "estado: 19\n",
            "x = 1024\n",
            "y = 0\n",
            "r = 912\n",
            "m = 16\n",
            "n = 57\n",
            "ap = 3\n"
          ]
        }
      ],
      "source": [
        "def gera_traco(declare,init,trans,k):\n",
        "  trace = [declare(i) for i in range(k)]\n",
        "  s = Solver()\n",
        "\n",
        "  s.add(init(trace[0]))\n",
        "\n",
        "  for i in range(k-1):\n",
        "    s.add(trans(trace[i],trace[i+1]))\n",
        "\n",
        "  r = s.check()\n",
        "  if r == sat:\n",
        "    m = s.model()\n",
        "    for i in range(k):\n",
        "      print(\"estado: \"+str(i))\n",
        "      for v in trace[i]:\n",
        "        print(v, '=', m[trace[i][v]])\n",
        "    return\n",
        "  \n",
        "  print('UNSAT')\n",
        "  return\n",
        "\n",
        "gera_traco(declare,init,trans,20)"
      ]
    },
    {
      "cell_type": "markdown",
      "metadata": {},
      "source": [
        "# 2"
      ]
    }
  ],
  "metadata": {
    "colab": {
      "collapsed_sections": [],
      "name": "Trabalho4.ipynb",
      "provenance": []
    },
    "kernelspec": {
      "display_name": "Python 3",
      "name": "python3"
    },
    "language_info": {
      "codemirror_mode": {
        "name": "ipython",
        "version": 3
      },
      "file_extension": ".py",
      "mimetype": "text/x-python",
      "name": "python",
      "nbconvert_exporter": "python",
      "pygments_lexer": "ipython3",
      "version": "3.10.1"
    }
  },
  "nbformat": 4,
  "nbformat_minor": 0
}
