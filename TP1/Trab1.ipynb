{
  "nbformat": 4,
  "nbformat_minor": 0,
  "metadata": {
    "colab": {
      "name": "Trab1.ipynb",
      "provenance": [],
      "collapsed_sections": [],
      "toc_visible": true
    },
    "kernelspec": {
      "name": "python3",
      "display_name": "Python 3"
    },
    "language_info": {
      "name": "python"
    }
  },
  "cells": [
    {
      "cell_type": "markdown",
      "metadata": {
        "id": "rEe713xH4dK3"
      },
      "source": [
        "# Grupo 24\n",
        "Pedro Faria - A72640\n",
        "\n",
        "Hugo Costeira - A87976"
      ]
    },
    {
      "cell_type": "code",
      "metadata": {
        "id": "-esDEf__c3jo"
      },
      "source": [
        "!pip install ortools"
      ],
      "execution_count": null,
      "outputs": []
    },
    {
      "cell_type": "markdown",
      "metadata": {
        "id": "I8Z148_RH8L9"
      },
      "source": [
        "# Exercicio 1\n",
        "\n",
        "\n",
        "\n",
        "1. Pretende-se construir um horário semanal para o plano de reuniões de projeto de uma “StartUp” de acordo com as seguintes condições:\n",
        "    1. Cada reunião ocupa uma sala (enumeradas 1...S) durante um “slot” (tempo,dia).  Assume-se os dias enumerados 1..D e, em cada dia, os tempos enumerados 1..T.\n",
        "\n",
        "    2.  Cada reunião tem associado um projeto (enumerados 1..P) e um conjunto de participantes. Os diferentes colaboradores são enumerados 1..C.\n",
        "    3. Cada projeto tem associado um conjunto de colaboradores, dos quais um  é o líder. Cada projeto realiza um dado número de reuniões semanais. São “inputs” do problema o conjunto de colaboradores de cada projeto, o seu líder e o número de reuniões semanais.\n",
        "    4. O líder do projeto participa em todas as reuniões do seu projeto; os restantes colaboradores podem ou não participar consoante a sua disponibilidade, num mínimo (“quorum”) de  50 do total de colaboradores do projeto.  A disponibilidade de cada participante, incluindo o lider,  é um conjunto de “slots” (“inputs” do problema). \n"
      ]
    },
    {
      "cell_type": "markdown",
      "metadata": {
        "id": "dfNuSAvzcXeB"
      },
      "source": [
        "\n",
        "\n",
        "Começamos por importar a biblioteca de programação linear do OR-Tools e criar uma instância do solver e fazer a declaração da matriz de alocação X como um dicionário\n"
      ]
    },
    {
      "cell_type": "code",
      "metadata": {
        "id": "eqErJBgDc73J"
      },
      "source": [
        "from ortools.linear_solver import pywraplp\n",
        "horario = pywraplp.Solver.CreateSolver('SCIP')\n",
        "\n",
        "S,D,T,P,C=4,5,4,5,20\n",
        "L,R=1,5\n",
        "\n",
        "x = {}\n",
        "for s in range(S):\n",
        "  x[s]={}\n",
        "  for d in range(D):\n",
        "    x[s][d] = {}\n",
        "    for t in range(T):\n",
        "      x[s][d][t] = {}\n",
        "      for p in range(P):\n",
        "        x[s][d][t][p] ={}\n",
        "        for c in range(C):\n",
        "          x[s][d][t][p][c] = horario.BoolVar('x[%i][%i][%i][%i][%i]' %(s,d,t,p,c))\n",
        "\n",
        "\n",
        "                \n",
        "def X(s,d,t,p,c):              # abreviatura\n",
        "    return x[s][d][t][p][c]          \n"
      ],
      "execution_count": 15,
      "outputs": []
    },
    {
      "cell_type": "markdown",
      "metadata": {
        "id": "TL_SYrUtk5O0"
      },
      "source": [
        "\n",
        "\n",
        "1. Cada reunião ocupa uma sala (enumeradas 1...S) durante um “slot” (tempo,dia).  Assume-se os dias enumerados 1..D e, em cada dia, os tempos enumerados 1..T.\n",
        "\n",
        "Cada Projeto tem uma sala durante um slot:\n",
        "\n",
        "$$\\forall_{s<S} \\cdot \\forall_{d< D}\\cdot \\forall_{t<T} \\quad \\sum_{p<P} x_{s,d,t,p,c}\\quad =1$$\n",
        "\n",
        "\n",
        "\n",
        "\n",
        "\n",
        "\n",
        "\n",
        "\n",
        "\n",
        "\n",
        "\n",
        "\n",
        "\n"
      ]
    },
    {
      "cell_type": "code",
      "metadata": {
        "id": "uoR4YiK19T3o"
      },
      "source": [
        "for s in range(S):\n",
        "  for d in range(D):\n",
        "    for p in range(P):\n",
        "      horario.Add(sum([X(s,d,t,p,c) for p in range(P)]) == 1,name='Um')"
      ],
      "execution_count": 25,
      "outputs": []
    },
    {
      "cell_type": "markdown",
      "metadata": {
        "id": "DWqFyQBD9UfR"
      },
      "source": [
        "---\n",
        "2. Cada reunião tem associado um projeto (enumerados 1..P) e um conjunto de participantes. Os diferentes colaboradores são enumerados 1..C.\n",
        "\n",
        "$$\\forall_{p<P}\\quad \\sum_{c<C} x_{s,d,t,p,c}\\quad \\geq1$$\n"
      ]
    },
    {
      "cell_type": "code",
      "metadata": {
        "id": "ME8-3dMe9XvO"
      },
      "source": [
        "for p in range(P):\n",
        "  horario.Add(sum([X(s,d,t,p,c) for c in range(C)]) >= 1,name='Dois')"
      ],
      "execution_count": null,
      "outputs": []
    },
    {
      "cell_type": "markdown",
      "metadata": {
        "id": "ZJ6r8IcW9auM"
      },
      "source": [
        "---\n",
        "3. Cada projeto tem associado um conjunto de colaboradores, dos quais um  é o líder. Cada projeto realiza um dado número de reuniões semanais. São “inputs” do problema o conjunto de colaboradores de cada projeto, o seu líder e o número de reuniões semanais.\n",
        "\n",
        "L=Conjunto dos  Lideres de Projeto\n",
        "$$\\forall_{p<P}\\cdot\\forall_{c<C}\\,\\sum_{l<L}\\, x_{s,d,t,p,c}=1$$\n",
        "R = Numero de Reunioes semanais\n",
        "$$\\forall_{p<P}\\,\\sum_{s<S,d<D,t<t}\\,x_{s,d,t,p,c} = R  $$\n"
      ]
    },
    {
      "cell_type": "code",
      "metadata": {
        "id": "zqfkvIGV9aRB"
      },
      "source": [
        "for p in range(P):\n",
        "  for c in range(C):\n",
        "    horario.Add(sum([X(s,d,t,p,c)for l in range(L)])==1,name='Lideres')"
      ],
      "execution_count": 18,
      "outputs": []
    },
    {
      "cell_type": "markdown",
      "metadata": {
        "id": "kqlBjBp69bj3"
      },
      "source": [
        "---\n",
        "4. O líder do projeto participa em todas as reuniões do seu projeto; os restantes colaboradores podem ou não participar consoante a sua disponibilidade, num mínimo (“quorum”) de  50% do total de colaboradores do projeto.  A disponibilidade de cada participante, incluindo o lider,  é um conjunto de “slots” (“inputs” do problema). \n",
        "\n",
        "$$\\forall_{p<P}\\, \\sum_{l<L} x_{s,d,t,p,c} =1 \\quad\\land\\quad\n",
        "\\forall_{p<P}\\, \\sum_{c<C} x_{s,d,t,p,c} \\geq C/2 $$\n",
        "\n",
        "\n",
        "\n"
      ]
    },
    {
      "cell_type": "code",
      "metadata": {
        "id": "tU391WS7_rom"
      },
      "source": [
        "for p in range(P):\n",
        "  horario.Add(sum([X(s,d,t,p,c)for l in range(L)])==1)\n",
        "  horario.Add(sum([X(s,d,t,p,c)for c in range(C)])>=(C/2))"
      ],
      "execution_count": 27,
      "outputs": []
    },
    {
      "cell_type": "markdown",
      "metadata": {
        "id": "PcgZtrS4We-e"
      },
      "source": [
        "---"
      ]
    },
    {
      "cell_type": "markdown",
      "metadata": {
        "id": "URg0mLh8WgKu"
      },
      "source": [
        "# Exercicio 2\n",
        "Da definição do jogo “Sudoku” generalizado para a dimensão $N$; o problema tradicional corresponde ao caso $N=3$. O objetivo do Sudoku é preencher uma grelha de $\\,N^2\\times N^2\\,$ com inteiros positivos no intervalo $\\,1$ até $\\,N^2\\,$, satisfazendo as seguintes regras\n",
        "\n",
        "Cada inteiro no intervalo $\\,1$ até $\\,N^2\\,$ ocorre  só uma vez em cada coluna, linha e secção $\\,N\\times N\\,$.\n",
        "\n",
        "No início do jogo uma fração $\\,0\\leq \\alpha< 1\\,$ das $\\,N^4\\,$ casas da grelha são preenchidas de forma consistente com a regra anterior.\n",
        "        \n",
        "1. Construir um programa para inicializar a grelha a partir dos parâmetros $N$ e $\\alpha$\n",
        "2. Construir soluções do problema para  as combinações de parâmetros $N\\in\\{3,4,5,6\\}$ e $\\,\\alpha \\in \\{\\,0.0\\,,\\,0.2\\,,\\,0.4\\,,\\,0.6\\,\\}$ . Que conclusões pode tirar da complexidade computacional destas soluções."
      ]
    },
    {
      "cell_type": "code",
      "metadata": {
        "id": "ZZ87aryRWv32"
      },
      "source": [
        "from ortools.linear_solver import pywraplp\n",
        "sudoku = pywraplp.Solver.CreateSolver('SCIP')\n",
        "\n",
        "#c = Colunas\n",
        "#l = Linhas\n",
        "#q = Quadrados\n",
        "\n",
        "N= 3\n",
        "alpha=0.2\n",
        "\n",
        "s = {}\n",
        "for l in range(N):\n",
        "  s[l]={}\n",
        "  for c in range(N):\n",
        "    s[l][c] = {}\n",
        "    for q in range(N):\n",
        "      s[l][c][q] = sudoku.BoolVar('s[%i][%i][%i]' %(l,c,q))\n",
        "\n",
        "\n",
        "def S(c,l,q):\n",
        "  return s[l][c][q]\n",
        "\n",
        "tabuleiro = ([[5, 4, 9, 0, 0, 1, 7, 3, 8],\n",
        "             [3, 6, 7, 0, 0, 8, 0, 0, 1],\n",
        "             [2, 0, 0, 0, 7, 3, 0, 4, 0],\n",
        "             [0, 0, 0, 9, 0, 0, 0, 0, 5],\n",
        "             [0, 0, 0, 7, 0, 5, 4, 6, 0],\n",
        "             [1, 3, 5, 8, 4, 0, 0, 7, 0],\n",
        "             [0, 0, 4, 0, 0, 0, 3, 0, 7],\n",
        "             [7, 8, 0, 3, 5, 0, 0, 0, 6],\n",
        "             [0, 2, 3, 0, 8, 0, 0, 0, 0]])\n",
        "            "
      ],
      "execution_count": 19,
      "outputs": []
    },
    {
      "cell_type": "markdown",
      "metadata": {
        "id": "VLqMs_t2YHVc"
      },
      "source": [
        "Cada inteiro no intervalo 1 até N2 ocorre só uma vez em cada coluna, linha e secção N×N.\n",
        "\n",
        "$$\\forall_{1<x<N^2}\\,\\sum_{c<N,l<N,q<N}\\,s_{c,l,q}=1$$"
      ]
    },
    {
      "cell_type": "code",
      "metadata": {
        "id": "_cLrEEq5co0O"
      },
      "source": [
        "\n",
        "for x in range(1,N^2):\n",
        "  sudoku.Add(sum([S(l,c,q) for l in range(N) for c in range(N) for q in range(N)]) == 1)\n"
      ],
      "execution_count": 20,
      "outputs": []
    },
    {
      "cell_type": "markdown",
      "metadata": {
        "id": "QPgzsLB3XsqQ"
      },
      "source": [
        "---"
      ]
    },
    {
      "cell_type": "code",
      "metadata": {
        "id": "Fl7aMwBWhc08"
      },
      "source": [
        "def criaTabuleiro(N,alpha):\n",
        "  linha={}\n",
        "  coluna{}\n",
        "  quadrado={}"
      ],
      "execution_count": null,
      "outputs": []
    }
  ]
}